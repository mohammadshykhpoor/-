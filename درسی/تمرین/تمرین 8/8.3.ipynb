{
  "metadata": {
    "language_info": {
      "codemirror_mode": {
        "name": "python",
        "version": 3
      },
      "file_extension": ".py",
      "mimetype": "text/x-python",
      "name": "python",
      "nbconvert_exporter": "python",
      "pygments_lexer": "ipython3",
      "version": "3.8"
    },
    "kernelspec": {
      "name": "python",
      "display_name": "Python (Pyodide)",
      "language": "python"
    }
  },
  "nbformat_minor": 4,
  "nbformat": 4,
  "cells": [
    {
      "cell_type": "code",
      "source": "import re\n\na = '@Ab#cdf'\nmy_list = list(a)\nprint(\"لیست کل:\", my_list)\nuppercase_list = [char for char in my_list if char.isupper()]\nprint(\"حروف بزرگ:\", uppercase_list)\nlowercase_list = [char for char in my_list if char.islower()]\nprint(\"حروف کوچک:\", lowercase_list)\nsymbol_list = re.findall(r'[^A-Za-z0-9]', a)\nprint(\"علائم:\", symbol_list)",
      "metadata": {
        "trusted": true
      },
      "execution_count": 1,
      "outputs": [
        {
          "name": "stdout",
          "text": "لیست کل: ['@', 'A', 'b', '#', 'c', 'd', 'f']\nحروف بزرگ: ['A']\nحروف کوچک: ['b', 'c', 'd', 'f']\nعلائم: ['@', '#']\n",
          "output_type": "stream"
        }
      ]
    },
    {
      "cell_type": "code",
      "source": "",
      "metadata": {},
      "execution_count": null,
      "outputs": []
    }
  ]
}