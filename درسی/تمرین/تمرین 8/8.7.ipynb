{
  "metadata": {
    "language_info": {
      "codemirror_mode": {
        "name": "python",
        "version": 3
      },
      "file_extension": ".py",
      "mimetype": "text/x-python",
      "name": "python",
      "nbconvert_exporter": "python",
      "pygments_lexer": "ipython3",
      "version": "3.8"
    },
    "kernelspec": {
      "name": "python",
      "display_name": "Python (Pyodide)",
      "language": "python"
    }
  },
  "nbformat_minor": 4,
  "nbformat": 4,
  "cells": [
    {
      "cell_type": "code",
      "source": "a = [1, 9, 2]\nb = [8, 4, 6]\n\nc = []\nfor i in range(len(a)):\n    c.append(a[i])\n    c.append(b[i])\n\nprint(c)",
      "metadata": {},
      "execution_count": null,
      "outputs": []
    }
  ]
}